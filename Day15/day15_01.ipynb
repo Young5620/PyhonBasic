{
 "cells": [
  {
   "cell_type": "code",
   "execution_count": 1,
   "metadata": {},
   "outputs": [
    {
     "name": "stdout",
     "output_type": "stream",
     "text": [
      "오 된다!\n"
     ]
    }
   ],
   "source": [
    "### with 블럭과 인코딩방식\n",
    "#\n",
    "# (형식)\n",
    "# with open(file, mode, encoding) as 참조변수:\n",
    "#       pass    # 참조변수를 참조하여 작업내용 지정\n",
    "#\n",
    "# 예시\n",
    "try:\n",
    "    with open('data/test_text.txt','r',encoding='utf-8') as f:\n",
    "        rbuf = f.read()\n",
    "        print(rbuf)\n",
    "    with open('data/test_text.txt','w',encoding='utf-8') as f:\n",
    "        f.write('안녕하세요')\n",
    "        f.write('\\n연습입니다.')\n",
    "    \n",
    "except Exception as e:\n",
    "    print('Error 발생',e)"
   ]
  },
  {
   "cell_type": "code",
   "execution_count": null,
   "metadata": {},
   "outputs": [],
   "source": [
    "### 파일 시스템\n",
    "## os내에서 사용하는 정보를 얻거나 동작을 하는 함수들\n",
    "#\n",
    "# 사용하는 모듈 : os\n",
    "#\n",
    "# [파일 및 디렉터리 관련 함수]\n",
    "# os.getcwd() : 현재 작업하는 디렉터리 위치를 반환\n",
    "# os.chdir() : 현재 작업 디렉터리 위치를 변경\n",
    "# os.listdir(path) : 경로에 해당하는 파일 디렉터리 목록 보여주기\n",
    "# os.remove(path) : 해당 파일을 삭제합니다\n",
    "# os.mkdir(path) : 해당 디렉터리를 생성\n",
    "# os.rmdir(path) : 해당 디렉터리를 삭제(디렉터리가 비어있어야 함. 안에 파일이 있으면 삭제안됨)\n",
    "# os.makedirs(path) : 여러개의 디렉터리를 순차적으로 생성. 디렉터리가 존재하는 경우에는 예외처리됨\n",
    "# os.removedirs(path) : 여러개의 디렉터리를 순차적으로 삭제\n",
    "# os.rename(src,dst) : 파일이나 디렉터리의 이름(src)을 dst로 변경"
   ]
  },
  {
   "cell_type": "code",
   "execution_count": 35,
   "metadata": {},
   "outputs": [
    {
     "name": "stdout",
     "output_type": "stream",
     "text": [
      "['test', 'test_text.txt']\n",
      "c:\\Python\\PythonBasic\\Day15\\data\n",
      "['test', 'test_text.txt']\n",
      "['test', 'test_text.txt']\n",
      "c:\\Python\\PythonBasic\\Day15\\data\n"
     ]
    }
   ],
   "source": [
    "import os\n",
    "try:\n",
    "    # 현재작업위치\n",
    "    os.getcwd()\n",
    "    \n",
    "    # 작업 디렉터리 변경\n",
    "    # os.chdir('data')\n",
    "    \n",
    "    # 현재 작업 디렉터로 목록 -> 리스트로 반환\n",
    "    os.listdir('./')\n",
    "    \n",
    "    # 디렉터리 생성 : 'test'생성\n",
    "    # os.mkdir('test')\n",
    "    list = os.listdir('.')\n",
    "    print(list)\n",
    "    \n",
    "    # 디렉터리 이동 : test\n",
    "    # os.chdir('../../')\n",
    "    print(os.getcwd())\n",
    "    \n",
    "    # 여러 디렉터리 생성 : test2, test3\n",
    "    # os.makedirs('test2/test3')\n",
    "    print(os.listdir('.'))\n",
    "    # os.chdir('test2')\n",
    "    print(os.listdir('.'))      # test3\n",
    "    \n",
    "    # 디렉터리 삭제\n",
    "    # os.chdir('../')\n",
    "    print(os.getcwd())\n",
    "    # os.rmdir('test2')\n",
    "    \n",
    "    # 여러개 디렉터리 삭제\n",
    "    # os.removedirs('c:\\\\Python\\\\PythonBasic\\\\Day15\\\\data\\\\test\\\\test2')\n",
    "except Exception as e:\n",
    "    print('에러발생 : ',e)"
   ]
  },
  {
   "cell_type": "code",
   "execution_count": null,
   "metadata": {},
   "outputs": [],
   "source": [
    "## 경로 관련 함수\n",
    "#\n",
    "# os.path.abspath(path) : 현재경로를 기준으로 절대경로를 반환\n",
    "# os.path.dirname(path) : 현재경로를 기준으로 파일 또는 디렉토리 경로를 반환\n",
    "# os.path.getsize(path) : 현재경로의 파일에 대한 크기(byte)를 반환\n",
    "# os.path.exists(path) : 현재경로가 존재하면 True, 존재하지 않으면 False를 반환\n",
    "# os.path.isfile(path) : 현재경로가 파일이면 True, 파일이 아니면 False를 반환\n",
    "# os.path.isdir(path) : 현재경로가 디렉터리이면 True, 디렉터리가 아니면 False를 반환\n",
    "# os.path.split(path) : 현재 경로를 디렉터리와 파일로 분리하여 튜플로 반환\n",
    "# os.path.join(path[,path2[, ...]) : 경로와 경로를 하나로 연결"
   ]
  },
  {
   "cell_type": "code",
   "execution_count": 53,
   "metadata": {},
   "outputs": [
    {
     "data": {
      "text/plain": [
       "6735"
      ]
     },
     "execution_count": 53,
     "metadata": {},
     "output_type": "execute_result"
    }
   ],
   "source": [
    "import os.path\n",
    "\n",
    "# 현재경로확인\n",
    "# os.chdir('c:\\\\Python\\\\PythonBasic\\\\Day15')\n",
    "os.getcwd()\n",
    "\n",
    "# 파일이나 디렉터리 절대경로\n",
    "os.path.abspath('data/test_text.txt')\n",
    "\n",
    "# 파일, 디렉터리 이름 확인\n",
    "os.path.dirname('data/test_text.txt')\n",
    "\n",
    "# 파일, 디렉터리 존재 확인\n",
    "os.path.exists('c:\\\\python\\\\pythonbasic\\\\Day1') # T\n",
    "os.path.exists('../day14')                      # T\n",
    "os.path.exists('../day14/day14_01.ipyb')        # F\n",
    "\n",
    "# 파일, 디렉터리 유무 확인\n",
    "os.path.isfile('c:\\\\python\\\\pythonbasic\\\\Day14')                    # F\n",
    "os.path.isfile('c:\\\\python\\\\pythonbasic\\\\Day14\\\\day14_01.ipynb')    # T\n",
    "os.path.isdir('c:\\\\python\\\\pythonbasic\\\\Day14')                     # T\n",
    "os.path.isdir('c:\\\\python\\\\pythonbasic\\\\Day14\\\\day14_01.ipynb')     # F\n",
    "\n",
    "# 디렉터리와 파일분리\n",
    "os.path.split('c://python//pythonbasic/Day14/day14_01.ipynb')\n",
    "\n",
    "# 디렉터리와 파일결합\n",
    "os.path.join('c://test','test.txt')     # c://test//test.txt\n",
    "\n",
    "# 파일의 크기\n",
    "os.path.getsize('c:\\\\python\\\\pythonbasic\\\\Day14\\\\day14_01.ipynb')"
   ]
  },
  {
   "cell_type": "code",
   "execution_count": 61,
   "metadata": {},
   "outputs": [
    {
     "name": "stdout",
     "output_type": "stream",
     "text": [
      "c:\\Python\\PythonBasic\\Day15\n",
      "['first', 'second']\n",
      "first_text 길이 =  10\n",
      "second_text 길이 =  10\n",
      "tot_texts 길이 =  20\n",
      "<class 'list'>\n"
     ]
    }
   ],
   "source": [
    "### 특정 디렉터리 내에 있는 텍스트 자료 수집\n",
    "import os\n",
    "\n",
    "# 1. 텍스트 디렉터리 경로지정\n",
    "print(os.getcwd())      # 현재 기본경로 확인\n",
    "txt_data = 'data/txt_data/'\n",
    "\n",
    "# 2. 텍스트 디렉터리 목록 반환\n",
    "sub_dir = os.listdir(txt_data)\n",
    "print(sub_dir)\n",
    "\n",
    "# 3. 각 디렉터리의 텍스트 자료 수집 함수\n",
    "def textPro(sub_dir):       # ['first', 'second']\n",
    "    first_txt = []          # first 디렉터리 텍스트 저장\n",
    "    second_txt = []         # second 디렉터리 텍스트 저장\n",
    "    \n",
    "    # 3-1 디렉터리 구성\n",
    "    for sdir in sub_dir:\n",
    "        dirname = txt_data + sdir           # 디렉터리 구성\n",
    "        file_list = os.listdir(dirname)     # 파일목록 반환\n",
    "        \n",
    "        # 3-2 파일구성\n",
    "        for fname in file_list:\n",
    "            file_path = dirname + '/' + fname   # 파일구성\n",
    "            \n",
    "            # file 선택\n",
    "            if os.path.isfile(file_path):\n",
    "                try:\n",
    "                    # 3-4 텍스트 자료수집\n",
    "                    file = open(file_path,'r')\n",
    "                    if sdir == 'first':\n",
    "                        first_txt.append(file.read())\n",
    "                    else :\n",
    "                        second_txt.append(file.read())\n",
    "                except Exception as e:\n",
    "                    print('예외발생 : ',e)\n",
    "                finally : \n",
    "                    file.close()\n",
    "    return first_txt, second_txt\n",
    "\n",
    "## 함수 호출\n",
    "first_txt, second_txt = textPro(sub_dir)\n",
    "\n",
    "## 수집한 자료 확인\n",
    "print('first_text 길이 = ',len(first_txt))      # first_text 길이 =  10\n",
    "print('second_text 길이 = ',len(second_txt))    # second_text 길이 =  10\n",
    "\n",
    "## 수집한 텍스트 자료 결합\n",
    "tot_texts = first_txt + second_txt\n",
    "print('tot_texts 길이 = ', len(tot_texts))      # tot_texts 길이 =  20\n",
    "\n",
    "## 전체 텍스트 내용\n",
    "# print(tot_texts)\n",
    "print(type(tot_texts))\n"
   ]
  },
  {
   "cell_type": "code",
   "execution_count": 65,
   "metadata": {},
   "outputs": [
    {
     "name": "stdout",
     "output_type": "stream",
     "text": [
      "tot_texts_read 길이 :  20\n",
      "<class 'list'>\n"
     ]
    }
   ],
   "source": [
    "### 문제] 위에 만들어진 tot_texts파일을 pickle을 사용하여 저장(저장파일 : data/tot_texts.pck)\n",
    "import pickle\n",
    "\n",
    "# file save => pickle(binary)\n",
    "pfile_w = open('data/tot_texts.pck',mode = 'wb')\n",
    "# pickle.dump()\n",
    "pickle.dump(tot_texts,pfile_w)\n",
    "\n",
    "# load file => pickle파일(data/tot_texts.pck)\n",
    "pfile_r = open('data/tot_texts.pck',mode = 'rb')\n",
    "tot_texts_read = pickle.load(pfile_r)\n",
    "print('tot_texts_read 길이 : ',len(tot_texts_read))\n",
    "print(type(tot_texts_read))\n",
    "#print(tot_texts_read)"
   ]
  },
  {
   "cell_type": "code",
   "execution_count": 68,
   "metadata": {},
   "outputs": [
    {
     "data": {
      "text/plain": [
       "['data/images\\\\101.png',\n",
       " 'data/images\\\\102.png',\n",
       " 'data/images\\\\103.png',\n",
       " 'data/images\\\\104.png',\n",
       " 'data/images\\\\105.png']"
      ]
     },
     "execution_count": 68,
     "metadata": {},
     "output_type": "execute_result"
    }
   ],
   "source": [
    "from glob import glob\n",
    "fimages = glob('data/images/'+'*.png')       # data/images/*.png\n",
    "fimages"
   ]
  },
  {
   "cell_type": "code",
   "execution_count": 70,
   "metadata": {},
   "outputs": [
    {
     "name": "stdout",
     "output_type": "stream",
     "text": [
      "c:\\Python\\PythonBasic\\Day15\n",
      "해당 디렉터리가 존재함\n",
      "png file =  ['101.png', '102.png', '103.png', '104.png', '105.png']\n"
     ]
    }
   ],
   "source": [
    "### 이미지 파일이동\n",
    "# data/images -> data/images2\n",
    "# [절차]\n",
    "# 1. os.path.exists 를 사용하여 디렉터리 유무확인\n",
    "# 2. glob(path/*.png) : png파일만 추려낸다.\n",
    "# 3. png 이미지복사는 이진 파일 읽기\n",
    "# 4. png 이미지파일쓰기는 이진 파일 쓰기\n",
    "\n",
    "import os\n",
    "from glob import glob\n",
    "\n",
    "# image 파일 경로\n",
    "print(os.getcwd())\n",
    "img_path = 'data/images/'\n",
    "img_path2 = 'data/images2/'\n",
    "\n",
    "# 디렉터리 존재 유무\n",
    "if os.path.exists(img_path):\n",
    "    print('data/images 디렉터리가 존재함')\n",
    "    # image 파일 저장, 파일 이동 디렉터리 완성\n",
    "    images = []\n",
    "    os.mkdir(img_path2)\n",
    "    \n",
    "    # png검색\n",
    "    for pic_path in glob(img_path+'*.png'):\n",
    "        img_path = os.path.split(pic_path)\n",
    "        images.append(img_path[1])\n",
    "        \n",
    "        # 이진파일 읽기\n",
    "        rfile = open(file = pic_path,mode='rb')\n",
    "        output = rfile.read()\n",
    "        \n",
    "        # 이진파일 쓰기\n",
    "        wfile = open(img_path2 + img_path[1],mode='wb')\n",
    "        wfile.write(output)\n",
    "    rfile.close(); wfile.close\n",
    "else : \n",
    "    print('data/images 디렉터리가 없음')\n",
    "    \n",
    "print('png file = ',images)    "
   ]
  },
  {
   "cell_type": "code",
   "execution_count": null,
   "metadata": {},
   "outputs": [],
   "source": [
    "pip list    # pip를 이용하여 설치된 패키지"
   ]
  },
  {
   "cell_type": "code",
   "execution_count": 73,
   "metadata": {},
   "outputs": [
    {
     "name": "stdout",
     "output_type": "stream",
     "text": [
      "Defaulting to user installation because normal site-packages is not writeable\n",
      "Collecting pandas\n",
      "  Downloading pandas-1.4.2-cp310-cp310-win_amd64.whl (10.6 MB)\n",
      "     --------------------------------------- 10.6/10.6 MB 23.4 MB/s eta 0:00:00\n",
      "Requirement already satisfied: numpy>=1.21.0 in c:\\users\\user\\appdata\\roaming\\python\\python310\\site-packages (from pandas) (1.22.3)\n",
      "Requirement already satisfied: python-dateutil>=2.8.1 in c:\\users\\user\\appdata\\roaming\\python\\python310\\site-packages (from pandas) (2.8.2)\n",
      "Requirement already satisfied: pytz>=2020.1 in c:\\users\\user\\appdata\\roaming\\python\\python310\\site-packages (from pandas) (2022.1)\n",
      "Requirement already satisfied: six>=1.5 in c:\\users\\user\\appdata\\roaming\\python\\python310\\site-packages (from python-dateutil>=2.8.1->pandas) (1.16.0)\n",
      "Installing collected packages: pandas\n",
      "Successfully installed pandas-1.4.2\n",
      "Note: you may need to restart the kernel to use updated packages.\n"
     ]
    }
   ],
   "source": [
    "pip install pandas"
   ]
  },
  {
   "cell_type": "code",
   "execution_count": null,
   "metadata": {},
   "outputs": [],
   "source": [
    "### 특수한 파일처리\n",
    "# CSV(Comma Separated Value) : 열단위 자료를 처리할 수 있는 대표적인 파일로 CSV, Excel \n",
    "#                              -> Cell단위 자료를 저장하여 처리하는 파일\n",
    "# \n",
    "# pandas 패키지 import\n",
    "import pandas as pd\n",
    "import os\n",
    "\n",
    "print(os.getcwd())\n",
    "\n",
    "score = pd.read_csv('data/score.csv')\n",
    "# print(score.info())     # 파일정보\n",
    "# print(score.head())     # 앞에 컬럼명 포함 5개행 출력\n",
    "\n",
    "# 컬럼추출\n",
    "kor = score.kor         # 객체.컬럼명\n",
    "eng = score['eng']      # 객체['컬럼명']\n",
    "mat = score['mat']     \n",
    "dept = score['dept']\n",
    "\n",
    "# 과목별 최고 점수\n",
    "print('max kor = ',max(kor))\n",
    "print('eng kor = ',max(eng))\n",
    "print('mat kor = ',max(mat))\n",
    "\n",
    "# 과목별 최하 점수\n",
    "print('min kor = ',min(kor))\n",
    "print('eng kor = ',min(eng))\n",
    "print('mat kor = ',min(mat))\n",
    "\n",
    "# 과목별 평균점수\n",
    "from statistics import mean\n",
    "print('avg kor = ',round(mean(kor),2))\n",
    "print('avg eng = ',round(mean(eng),2))\n",
    "print('avg mat = ',round(mean(mat),2))\n",
    "\n",
    "# 빈도수\n",
    "dept_count = {}\n",
    "for key in dept:\n",
    "    dept_count[key] = dept_count.get(key,0) + 1\n",
    "print(dept_count)"
   ]
  },
  {
   "cell_type": "code",
   "execution_count": 93,
   "metadata": {},
   "outputs": [
    {
     "name": "stdout",
     "output_type": "stream",
     "text": [
      "Defaulting to user installation because normal site-packages is not writeable\n",
      "Collecting openpyxl\n",
      "  Downloading openpyxl-3.0.9-py2.py3-none-any.whl (242 kB)\n",
      "     -------------------------------------- 242.2/242.2 KB 3.7 MB/s eta 0:00:00\n",
      "Collecting et-xmlfile\n",
      "  Downloading et_xmlfile-1.1.0-py3-none-any.whl (4.7 kB)\n",
      "Installing collected packages: et-xmlfile, openpyxl\n",
      "Successfully installed et-xmlfile-1.1.0 openpyxl-3.0.9\n",
      "Note: you may need to restart the kernel to use updated packages.\n"
     ]
    }
   ],
   "source": [
    "pip install openpyxl"
   ]
  },
  {
   "cell_type": "code",
   "execution_count": null,
   "metadata": {},
   "outputs": [],
   "source": [
    "### Excel 파일 읽기\n",
    "\n",
    "sam = pd.ExcelFile('data/sam_kospi.xlsx')\n",
    "\n",
    "# excel 파싱\n",
    "kospi = sam.parse('sam_kospi')\n",
    "print(kospi.info())\n",
    "\n",
    "# 칼럼추출\n",
    "high = kospi['High']            # Series\n",
    "low = kospi['Low']              # Series\n",
    "\n",
    "# 평균계산(statistics 모듈)\n",
    "from statistics import mean\n",
    "print('high mean = ',mean(high))\n",
    "print('low mean = ',mean(low))\n",
    "\n",
    "# 평균계산(pandas 모듈)\n",
    "print('High mean = ',high.mean())\n",
    "print('Low mean = ',low.mean())"
   ]
  },
  {
   "cell_type": "code",
   "execution_count": null,
   "metadata": {},
   "outputs": [],
   "source": [
    "### JSON 파일\n",
    "# JSON(JavaScript Object Notation)은 네트워크 표준으로 사용되고 있는 파일 양식(XML...)\n",
    "# JSON파일의 특징은 key와 value 쌍으로 자료를 표현\n",
    "# 표현은 자바스크립트 구문형식을 따르지만, 프로그램 언어나 플랫폼에 독립적으로 동작할 수 있음.\n",
    "#\n",
    "# 파이썬은 JSON파일을 처리할 수 있는 모듈을 기본으로 제공하고 있음\n",
    "# 인코딩 - 파이썬 객체(dict or list) -> JSON문자열 반환(\"키-값\")\n",
    "#          json.dumps(객체) -> JSON문자열 변경\n",
    "# 디코딩 - JSON문자열 -> 파이썬 객체\n",
    "#          json.loads(json문자열) -> 파이썬 객체"
   ]
  },
  {
   "cell_type": "code",
   "execution_count": 110,
   "metadata": {},
   "outputs": [
    {
     "name": "stdout",
     "output_type": "stream",
     "text": [
      "<class 'dict'>\n",
      "홍길동\n",
      "{\"id\": 1234, \"name\": \"홍길동\"}\n",
      "<class 'str'>\n",
      "홍길동\n",
      "id : 1234\n",
      "name : 홍길동\n"
     ]
    }
   ],
   "source": [
    "import json\n",
    "\n",
    "## json인코딩\n",
    "user = {'id':1234,'name':'홍길동'}\n",
    "print(type(user))\n",
    "print(user['name'])\n",
    "\n",
    "jsonString = json.dumps(user,ensure_ascii=False)    # ASCII 인코딩 방식 적용안함\n",
    "print(jsonString)\n",
    "print(type(jsonString))\n",
    "# print(jsonString[\"name\"])\n",
    "\n",
    "## json디코딩\n",
    "pyObj = json.loads(jsonString)\n",
    "type(pyObj)\n",
    "## dict자료 확인\n",
    "print(pyObj['name'])\n",
    "for key in pyObj:\n",
    "    print(key,':',pyObj[key])"
   ]
  }
 ],
 "metadata": {
  "interpreter": {
   "hash": "b89b5cfaba6639976dc87ff2fec6d58faec662063367e2c229c520fe71072417"
  },
  "kernelspec": {
   "display_name": "Python 3.10.3 64-bit",
   "language": "python",
   "name": "python3"
  },
  "language_info": {
   "codemirror_mode": {
    "name": "ipython",
    "version": 3
   },
   "file_extension": ".py",
   "mimetype": "text/x-python",
   "name": "python",
   "nbconvert_exporter": "python",
   "pygments_lexer": "ipython3",
   "version": "3.10.3"
  },
  "orig_nbformat": 4
 },
 "nbformat": 4,
 "nbformat_minor": 2
}
