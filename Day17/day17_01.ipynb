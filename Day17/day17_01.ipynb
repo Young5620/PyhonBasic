{
 "cells": [
  {
   "cell_type": "code",
   "execution_count": 35,
   "metadata": {},
   "outputs": [],
   "source": [
    "import datetime\n",
    "from datetime import datetime, date\n",
    "import pandas as pd\n",
    "import numpy as np\n",
    "import matplotlib.pyplot as plt\n",
    "pd.set_option('display.notebook_repr_html',True)\n",
    "pd.set_option('display.max_columns',7)\n",
    "pd.set_option('display.max_rows',10)\n",
    "pd.set_option('display.width',250)\n",
    "%matplotlib inline\n",
    "from re import match\n",
    "import os\n",
    "import json"
   ]
  },
  {
   "cell_type": "code",
   "execution_count": 33,
   "metadata": {},
   "outputs": [
    {
     "data": {
      "text/plain": [
       "48.33"
      ]
     },
     "execution_count": 33,
     "metadata": {},
     "output_type": "execute_result"
    }
   ],
   "source": [
    "'''\n",
    "jumsu = {\n",
    "'홍길동' : [50,60,50],\n",
    "'이순동' : [60,60,60],\n",
    "'강감동' : [100,90,90],\n",
    "'유관동' : [80,80,90],\n",
    "'홍길도' : [50,45,50],\n",
    "'이순도' : [80,70,66],\n",
    "'강감도' : [64,49,50],\n",
    "'유관도' : [60,50,50],\n",
    "'홍길재' : [50,45,51],\n",
    "'이순재' : [80,70,61],\n",
    "'강감재' : [64,49,51],\n",
    "'유관재' : [60,50,51],\n",
    "'강환석' : [95,95,95]\n",
    "}\n",
    "<요구사항1>\n",
    "다음의 순서대로 코딩하세요.\n",
    "가. 보기의 jumsu 딕셔너리 중에서 평균 점수가 60점 미만인 사람만 선별하여 또 다른 딕셔너리에 저장하세요.\n",
    "나. 가. 항에서 만든 또 다른 딕셔너리를 이용하여 데이터(요소)가 평균이고 인덱스가 이름인 Series 를 만드세요.\n",
    "다. 시리즈를 <실행결과> 와 같이 출력하세요.\n",
    "\n",
    "<실행결과>\n",
    "\n",
    "홍길동-홍길도-강감도-유관도-홍길재-강감재-유관재-\n",
    "53.33--48.33--54.33--53.33--48.67--54.67--53.67--\n",
    "'''\n",
    "import pandas as pd\n",
    "import numpy as np\n",
    "from statistics import mean\n",
    "jumsu = {\n",
    "'홍길동' : [50,60,50],\n",
    "'이순동' : [60,60,60],\n",
    "'강감동' : [100,90,90],\n",
    "'유관동' : [80,80,90],\n",
    "'홍길도' : [50,45,50],\n",
    "'이순도' : [80,70,66],\n",
    "'강감도' : [64,49,50],\n",
    "'유관도' : [60,50,50],\n",
    "'홍길재' : [50,45,51],\n",
    "'이순재' : [80,70,61],\n",
    "'강감재' : [64,49,51],\n",
    "'유관재' : [60,50,51],\n",
    "'강환석' : [95,95,95]\n",
    "}\n",
    "\n",
    "jumsu2 = {}\n",
    "for key, value in jumsu.items():\n",
    "    if round(np.mean(value)) < 60 :\n",
    "        jumsu2[key] = round(np.mean(value))\n",
    "\n",
    "jumsu3 = {key:round(np.mean(value),2) for key, value in jumsu.items() if round(np.mean(value)) < 60}\n",
    "jumsu3_s = pd.Series(jumsu3)\n",
    "\n",
    "### 위 평균 60점 미만의 사람들의 총점을 구하여 이름과 총점으로 딕셔너리 생성하세요\n",
    "### 그리고, 딕셔너리로 시리즈를 만드세요\n",
    "jumsu4 = {key:np.sum(value) for key, value in jumsu.items() if round(np.mean(value)) < 60}\n",
    "jumsu4_s = pd.Series(jumsu4)\n",
    "jumsu_df = pd.DataFrame({'합계':jumsu4_s,'평균':jumsu3_s})\n",
    "## 홍길도의 평균\n",
    "jumsu_df['평균']['홍길도']"
   ]
  },
  {
   "cell_type": "code",
   "execution_count": 36,
   "metadata": {},
   "outputs": [
    {
     "name": "stdout",
     "output_type": "stream",
     "text": [
      "DatetimeIndex(['2022-04-01', '2022-04-02', '2022-04-03', '2022-04-04', '2022-04-05', '2022-04-06', '2022-04-07'], dtype='datetime64[ns]', freq='D')\n"
     ]
    }
   ],
   "source": [
    "#### 날짜 데이터 생성\n",
    "dates = pd.date_range('2022-04-01','2022-04-7')\n",
    "print(dates)\n",
    "## datetime이라는 특별한 형식 인덱스를 생성함\n",
    "## datetime은 판다스에서 날짜/시간 관련 인덱스"
   ]
  },
  {
   "cell_type": "code",
   "execution_count": 40,
   "metadata": {},
   "outputs": [
    {
     "data": {
      "text/plain": [
       "2022-04-01    80\n",
       "2022-04-02    82\n",
       "2022-04-03    85\n",
       "2022-04-04    90\n",
       "2022-04-05    92\n",
       "2022-04-06    87\n",
       "2022-04-07    88\n",
       "Freq: D, dtype: int64"
      ]
     },
     "execution_count": 40,
     "metadata": {},
     "output_type": "execute_result"
    }
   ],
   "source": [
    "temps1 = pd.Series([80,82,85,90,92,87,88],index=dates)\n",
    "temps1\n",
    "### Pandas에서 DatetimeIndex의 형식으로 인덱스를 사용하는 데이터를 시계열이라 한다"
   ]
  },
  {
   "cell_type": "code",
   "execution_count": 39,
   "metadata": {},
   "outputs": [
    {
     "data": {
      "text/plain": [
       "88"
      ]
     },
     "execution_count": 39,
     "metadata": {},
     "output_type": "execute_result"
    }
   ],
   "source": [
    "temps1['2022-04-07']"
   ]
  },
  {
   "cell_type": "code",
   "execution_count": 43,
   "metadata": {},
   "outputs": [
    {
     "data": {
      "text/plain": [
       "2022-04-01    20\n",
       "2022-04-02    12\n",
       "2022-04-03    16\n",
       "2022-04-04     7\n",
       "2022-04-05    15\n",
       "2022-04-06     8\n",
       "2022-04-07    13\n",
       "Freq: D, dtype: int64"
      ]
     },
     "execution_count": 43,
     "metadata": {},
     "output_type": "execute_result"
    }
   ],
   "source": [
    "temps2 = pd.Series([60,70,69,83,77,79,75],index=dates)\n",
    "###temps1 도시의 온도와 temps2 도시의 온도 간 차이를 temps_diff에 저장\n",
    "temps_diff = temps1-temps2\n",
    "temps_diff"
   ]
  },
  {
   "cell_type": "code",
   "execution_count": 45,
   "metadata": {},
   "outputs": [
    {
     "data": {
      "text/plain": [
       "pandas.core.series.Series"
      ]
     },
     "execution_count": 45,
     "metadata": {},
     "output_type": "execute_result"
    }
   ],
   "source": [
    "temps_diff.mean()   ## numpy에서 제공하는 라이브러리에 있는 mean()와 구분되는 mean이 존재\n",
    "type(temps_diff)"
   ]
  },
  {
   "cell_type": "code",
   "execution_count": 47,
   "metadata": {},
   "outputs": [
    {
     "name": "stdout",
     "output_type": "stream",
     "text": [
      "2022-04-01    140\n",
      "2022-04-02    152\n",
      "2022-04-03    154\n",
      "2022-04-04    173\n",
      "2022-04-05    169\n",
      "2022-04-06    166\n",
      "2022-04-07    163\n",
      "Freq: D, dtype: int64\n",
      "2022-04-01    4800\n",
      "2022-04-02    5740\n",
      "2022-04-03    5865\n",
      "2022-04-04    7470\n",
      "2022-04-05    7084\n",
      "2022-04-06    6873\n",
      "2022-04-07    6600\n",
      "Freq: D, dtype: int64\n",
      "2022-04-01    1.333333\n",
      "2022-04-02    1.171429\n",
      "2022-04-03    1.231884\n",
      "2022-04-04    1.084337\n",
      "2022-04-05    1.194805\n",
      "2022-04-06    1.101266\n",
      "2022-04-07    1.173333\n",
      "Freq: D, dtype: float64\n"
     ]
    },
    {
     "data": {
      "text/html": [
       "<div>\n",
       "<style scoped>\n",
       "    .dataframe tbody tr th:only-of-type {\n",
       "        vertical-align: middle;\n",
       "    }\n",
       "\n",
       "    .dataframe tbody tr th {\n",
       "        vertical-align: top;\n",
       "    }\n",
       "\n",
       "    .dataframe thead th {\n",
       "        text-align: right;\n",
       "    }\n",
       "</style>\n",
       "<table border=\"1\" class=\"dataframe\">\n",
       "  <thead>\n",
       "    <tr style=\"text-align: right;\">\n",
       "      <th></th>\n",
       "      <th>Missoula</th>\n",
       "      <th>Philadelphia</th>\n",
       "      <th>Seoul</th>\n",
       "    </tr>\n",
       "  </thead>\n",
       "  <tbody>\n",
       "    <tr>\n",
       "      <th>2022-04-01</th>\n",
       "      <td>80</td>\n",
       "      <td>60</td>\n",
       "      <td>75</td>\n",
       "    </tr>\n",
       "    <tr>\n",
       "      <th>2022-04-02</th>\n",
       "      <td>82</td>\n",
       "      <td>70</td>\n",
       "      <td>77</td>\n",
       "    </tr>\n",
       "    <tr>\n",
       "      <th>2022-04-03</th>\n",
       "      <td>85</td>\n",
       "      <td>69</td>\n",
       "      <td>67</td>\n",
       "    </tr>\n",
       "    <tr>\n",
       "      <th>2022-04-04</th>\n",
       "      <td>90</td>\n",
       "      <td>83</td>\n",
       "      <td>82</td>\n",
       "    </tr>\n",
       "    <tr>\n",
       "      <th>2022-04-05</th>\n",
       "      <td>92</td>\n",
       "      <td>77</td>\n",
       "      <td>77</td>\n",
       "    </tr>\n",
       "    <tr>\n",
       "      <th>2022-04-06</th>\n",
       "      <td>87</td>\n",
       "      <td>79</td>\n",
       "      <td>85</td>\n",
       "    </tr>\n",
       "    <tr>\n",
       "      <th>2022-04-07</th>\n",
       "      <td>88</td>\n",
       "      <td>75</td>\n",
       "      <td>89</td>\n",
       "    </tr>\n",
       "  </tbody>\n",
       "</table>\n",
       "</div>"
      ],
      "text/plain": [
       "            Missoula  Philadelphia  Seoul\n",
       "2022-04-01        80            60     75\n",
       "2022-04-02        82            70     77\n",
       "2022-04-03        85            69     67\n",
       "2022-04-04        90            83     82\n",
       "2022-04-05        92            77     77\n",
       "2022-04-06        87            79     85\n",
       "2022-04-07        88            75     89"
      ]
     },
     "execution_count": 47,
     "metadata": {},
     "output_type": "execute_result"
    }
   ],
   "source": [
    "## 문제1\n",
    "# 위의 temps1, temps2를 이용하여 뺄셈 이외에 다른 연산 가능한지 실습\n",
    "temps_sum = temps1 + temps2\n",
    "temps_mul = temps1 * temps2\n",
    "temps_div = temps1 / temps2\n",
    "\n",
    "print(temps_sum)\n",
    "print(temps_mul)\n",
    "print(temps_div)\n",
    "\n",
    "## 문제2\n",
    "# temps3를 생성, temps1과 temps2와 대응하는 시리즈를 생성\n",
    "# 온도 : 75, 77, 67, 82, 77, 85, 89 인덱스 : dates\n",
    "temps3 = pd.Series([75,77,67,82,77,85,89],index=dates)\n",
    "# 이렇게 생성된 temps1, temps2, temps3를 temps_df로 데이터프레임으로 생성\n",
    "dic1 = {'Missoula':temps1,'Philadelphia':temps2,'Seoul':temps3}\n",
    "temps_df = pd.DataFrame(dic1)\n",
    "temps_df"
   ]
  },
  {
   "cell_type": "markdown",
   "metadata": {},
   "source": [
    "### 문제3 각 도시의 평균온도를 구하세요"
   ]
  },
  {
   "cell_type": "code",
   "execution_count": 54,
   "metadata": {},
   "outputs": [
    {
     "name": "stdout",
     "output_type": "stream",
     "text": [
      "            Missoula  Philadelphia  Seoul\n",
      "2022-04-01        80            60     75\n",
      "2022-04-02        82            70     77\n",
      "2022-04-03        85            69     67\n",
      "2022-04-04        90            83     82\n",
      "2022-04-05        92            77     77\n",
      "2022-04-06        87            79     85\n",
      "2022-04-07        88            75     89\n",
      "----------------------------------------\n",
      "Missoula\t평균기온 : 86.29\n",
      "Philadelphia\t평균기온 : 73.29\n",
      "Seoul\t\t평균기온 : 78.86\n"
     ]
    }
   ],
   "source": [
    "print(temps_df)\n",
    "print('-'*40)\n",
    "print('Missoula\\t평균기온 : {:.2f}'.format(temps_df['Missoula'].mean()))\n",
    "print('Philadelphia\\t평균기온 : {:.2f}'.format(temps_df['Philadelphia'].mean()))\n",
    "print('Seoul\\t\\t평균기온 : {:.2f}'.format(temps_df['Seoul'].mean()))"
   ]
  },
  {
   "cell_type": "code",
   "execution_count": 59,
   "metadata": {},
   "outputs": [
    {
     "data": {
      "text/html": [
       "<div>\n",
       "<style scoped>\n",
       "    .dataframe tbody tr th:only-of-type {\n",
       "        vertical-align: middle;\n",
       "    }\n",
       "\n",
       "    .dataframe tbody tr th {\n",
       "        vertical-align: top;\n",
       "    }\n",
       "\n",
       "    .dataframe thead th {\n",
       "        text-align: right;\n",
       "    }\n",
       "</style>\n",
       "<table border=\"1\" class=\"dataframe\">\n",
       "  <thead>\n",
       "    <tr style=\"text-align: right;\">\n",
       "      <th></th>\n",
       "      <th>Missoula</th>\n",
       "      <th>Philadelphia</th>\n",
       "    </tr>\n",
       "  </thead>\n",
       "  <tbody>\n",
       "    <tr>\n",
       "      <th>2022-04-01</th>\n",
       "      <td>80</td>\n",
       "      <td>60</td>\n",
       "    </tr>\n",
       "    <tr>\n",
       "      <th>2022-04-02</th>\n",
       "      <td>82</td>\n",
       "      <td>70</td>\n",
       "    </tr>\n",
       "    <tr>\n",
       "      <th>2022-04-03</th>\n",
       "      <td>85</td>\n",
       "      <td>69</td>\n",
       "    </tr>\n",
       "    <tr>\n",
       "      <th>2022-04-04</th>\n",
       "      <td>90</td>\n",
       "      <td>83</td>\n",
       "    </tr>\n",
       "    <tr>\n",
       "      <th>2022-04-05</th>\n",
       "      <td>92</td>\n",
       "      <td>77</td>\n",
       "    </tr>\n",
       "    <tr>\n",
       "      <th>2022-04-06</th>\n",
       "      <td>87</td>\n",
       "      <td>79</td>\n",
       "    </tr>\n",
       "    <tr>\n",
       "      <th>2022-04-07</th>\n",
       "      <td>88</td>\n",
       "      <td>75</td>\n",
       "    </tr>\n",
       "  </tbody>\n",
       "</table>\n",
       "</div>"
      ],
      "text/plain": [
       "            Missoula  Philadelphia\n",
       "2022-04-01        80            60\n",
       "2022-04-02        82            70\n",
       "2022-04-03        85            69\n",
       "2022-04-04        90            83\n",
       "2022-04-05        92            77\n",
       "2022-04-06        87            79\n",
       "2022-04-07        88            75"
      ]
     },
     "execution_count": 59,
     "metadata": {},
     "output_type": "execute_result"
    }
   ],
   "source": [
    "## 두 개 이상의 컬럼을 한번에 가져오고자 할때 []를 이용한다.\n",
    "cc = temps_df[['Missoula','Philadelphia']]\n",
    "cc\n"
   ]
  },
  {
   "cell_type": "code",
   "execution_count": 61,
   "metadata": {},
   "outputs": [
    {
     "data": {
      "text/html": [
       "<div>\n",
       "<style scoped>\n",
       "    .dataframe tbody tr th:only-of-type {\n",
       "        vertical-align: middle;\n",
       "    }\n",
       "\n",
       "    .dataframe tbody tr th {\n",
       "        vertical-align: top;\n",
       "    }\n",
       "\n",
       "    .dataframe thead th {\n",
       "        text-align: right;\n",
       "    }\n",
       "</style>\n",
       "<table border=\"1\" class=\"dataframe\">\n",
       "  <thead>\n",
       "    <tr style=\"text-align: right;\">\n",
       "      <th></th>\n",
       "      <th>Missoula</th>\n",
       "      <th>Philadelphia</th>\n",
       "      <th>Difference</th>\n",
       "    </tr>\n",
       "  </thead>\n",
       "  <tbody>\n",
       "    <tr>\n",
       "      <th>2022-04-01</th>\n",
       "      <td>80</td>\n",
       "      <td>60</td>\n",
       "      <td>20</td>\n",
       "    </tr>\n",
       "    <tr>\n",
       "      <th>2022-04-02</th>\n",
       "      <td>82</td>\n",
       "      <td>70</td>\n",
       "      <td>12</td>\n",
       "    </tr>\n",
       "    <tr>\n",
       "      <th>2022-04-03</th>\n",
       "      <td>85</td>\n",
       "      <td>69</td>\n",
       "      <td>16</td>\n",
       "    </tr>\n",
       "    <tr>\n",
       "      <th>2022-04-04</th>\n",
       "      <td>90</td>\n",
       "      <td>83</td>\n",
       "      <td>7</td>\n",
       "    </tr>\n",
       "    <tr>\n",
       "      <th>2022-04-05</th>\n",
       "      <td>92</td>\n",
       "      <td>77</td>\n",
       "      <td>15</td>\n",
       "    </tr>\n",
       "    <tr>\n",
       "      <th>2022-04-06</th>\n",
       "      <td>87</td>\n",
       "      <td>79</td>\n",
       "      <td>8</td>\n",
       "    </tr>\n",
       "    <tr>\n",
       "      <th>2022-04-07</th>\n",
       "      <td>88</td>\n",
       "      <td>75</td>\n",
       "      <td>13</td>\n",
       "    </tr>\n",
       "  </tbody>\n",
       "</table>\n",
       "</div>"
      ],
      "text/plain": [
       "            Missoula  Philadelphia  Difference\n",
       "2022-04-01        80            60          20\n",
       "2022-04-02        82            70          12\n",
       "2022-04-03        85            69          16\n",
       "2022-04-04        90            83           7\n",
       "2022-04-05        92            77          15\n",
       "2022-04-06        87            79           8\n",
       "2022-04-07        88            75          13"
      ]
     },
     "execution_count": 61,
     "metadata": {},
     "output_type": "execute_result"
    }
   ],
   "source": [
    "## 두 도시의 온도 차이를 붙여보세요\n",
    "cc_diff = cc['Missoula'] - cc['Philadelphia']\n",
    "cc['Difference'] = cc_diff\n",
    "cc"
   ]
  },
  {
   "cell_type": "code",
   "execution_count": 65,
   "metadata": {},
   "outputs": [
    {
     "data": {
      "text/plain": [
       "Index(['Missoula', 'Philadelphia', 'Difference'], dtype='object')"
      ]
     },
     "execution_count": 65,
     "metadata": {},
     "output_type": "execute_result"
    }
   ],
   "source": [
    "### temps_df 또는 cc데이터프레임의 컬럼명을 모두 출력\n",
    "cc.columns      # columns -> 데이터프레임에 있는 컬럼을 출력\n",
    "cc.index\n",
    "cc.keys\n",
    "cc.values"
   ]
  },
  {
   "cell_type": "code",
   "execution_count": 67,
   "metadata": {},
   "outputs": [
    {
     "data": {
      "text/html": [
       "<div>\n",
       "<style scoped>\n",
       "    .dataframe tbody tr th:only-of-type {\n",
       "        vertical-align: middle;\n",
       "    }\n",
       "\n",
       "    .dataframe tbody tr th {\n",
       "        vertical-align: top;\n",
       "    }\n",
       "\n",
       "    .dataframe thead th {\n",
       "        text-align: right;\n",
       "    }\n",
       "</style>\n",
       "<table border=\"1\" class=\"dataframe\">\n",
       "  <thead>\n",
       "    <tr style=\"text-align: right;\">\n",
       "      <th></th>\n",
       "      <th>Missoula</th>\n",
       "      <th>Philadelphia</th>\n",
       "      <th>Difference</th>\n",
       "    </tr>\n",
       "  </thead>\n",
       "  <tbody>\n",
       "    <tr>\n",
       "      <th>2022-04-02</th>\n",
       "      <td>82</td>\n",
       "      <td>70</td>\n",
       "      <td>12</td>\n",
       "    </tr>\n",
       "    <tr>\n",
       "      <th>2022-04-03</th>\n",
       "      <td>85</td>\n",
       "      <td>69</td>\n",
       "      <td>16</td>\n",
       "    </tr>\n",
       "    <tr>\n",
       "      <th>2022-04-04</th>\n",
       "      <td>90</td>\n",
       "      <td>83</td>\n",
       "      <td>7</td>\n",
       "    </tr>\n",
       "  </tbody>\n",
       "</table>\n",
       "</div>"
      ],
      "text/plain": [
       "            Missoula  Philadelphia  Difference\n",
       "2022-04-02        82            70          12\n",
       "2022-04-03        85            69          16\n",
       "2022-04-04        90            83           7"
      ]
     },
     "execution_count": 67,
     "metadata": {},
     "output_type": "execute_result"
    }
   ],
   "source": [
    "# 데이터프레임의 인덱스는 기본 인덱스와 사용자 인덱스가 존재한다\n",
    "# 기본 인덱스는 위치 인덱스라고도 한다\n",
    "# cc 또는 temps_df에 있는 2022-04-01~2022-04-07의 인덱스는 사용자 인덱스라고 한다\n",
    "# 슬라이싱을 이용한 방식은 기본 인덱스를 사용하게된다.\n",
    "cc.Difference[1:4]\n",
    "cc[1:4]"
   ]
  },
  {
   "cell_type": "code",
   "execution_count": 69,
   "metadata": {},
   "outputs": [
    {
     "name": "stdout",
     "output_type": "stream",
     "text": [
      "            Missoula  Philadelphia  Difference\n",
      "2022-04-01        80            60          20\n",
      "2022-04-02        82            70          12\n",
      "2022-04-03        85            69          16\n",
      "2022-04-04        90            83           7\n",
      "2022-04-05        92            77          15\n",
      "2022-04-06        87            79           8\n",
      "2022-04-07        88            75          13\n"
     ]
    },
    {
     "data": {
      "text/html": [
       "<div>\n",
       "<style scoped>\n",
       "    .dataframe tbody tr th:only-of-type {\n",
       "        vertical-align: middle;\n",
       "    }\n",
       "\n",
       "    .dataframe tbody tr th {\n",
       "        vertical-align: top;\n",
       "    }\n",
       "\n",
       "    .dataframe thead th {\n",
       "        text-align: right;\n",
       "    }\n",
       "</style>\n",
       "<table border=\"1\" class=\"dataframe\">\n",
       "  <thead>\n",
       "    <tr style=\"text-align: right;\">\n",
       "      <th></th>\n",
       "      <th>Missoula</th>\n",
       "      <th>Philadelphia</th>\n",
       "      <th>Difference</th>\n",
       "    </tr>\n",
       "  </thead>\n",
       "  <tbody>\n",
       "    <tr>\n",
       "      <th>2022-04-07</th>\n",
       "      <td>88</td>\n",
       "      <td>75</td>\n",
       "      <td>13</td>\n",
       "    </tr>\n",
       "  </tbody>\n",
       "</table>\n",
       "</div>"
      ],
      "text/plain": [
       "            Missoula  Philadelphia  Difference\n",
       "2022-04-07        88            75          13"
      ]
     },
     "execution_count": 69,
     "metadata": {},
     "output_type": "execute_result"
    }
   ],
   "source": [
    "print(cc)\n",
    "cc[-2:]\n",
    "cc[-1:]"
   ]
  },
  {
   "cell_type": "code",
   "execution_count": 93,
   "metadata": {},
   "outputs": [
    {
     "data": {
      "text/html": [
       "<div>\n",
       "<style scoped>\n",
       "    .dataframe tbody tr th:only-of-type {\n",
       "        vertical-align: middle;\n",
       "    }\n",
       "\n",
       "    .dataframe tbody tr th {\n",
       "        vertical-align: top;\n",
       "    }\n",
       "\n",
       "    .dataframe thead th {\n",
       "        text-align: right;\n",
       "    }\n",
       "</style>\n",
       "<table border=\"1\" class=\"dataframe\">\n",
       "  <thead>\n",
       "    <tr style=\"text-align: right;\">\n",
       "      <th></th>\n",
       "      <th>Seoul</th>\n",
       "      <th>Philadelphia</th>\n",
       "    </tr>\n",
       "  </thead>\n",
       "  <tbody>\n",
       "    <tr>\n",
       "      <th>2022-04-02</th>\n",
       "      <td>77</td>\n",
       "      <td>70</td>\n",
       "    </tr>\n",
       "    <tr>\n",
       "      <th>2022-04-03</th>\n",
       "      <td>67</td>\n",
       "      <td>69</td>\n",
       "    </tr>\n",
       "    <tr>\n",
       "      <th>2022-04-04</th>\n",
       "      <td>82</td>\n",
       "      <td>83</td>\n",
       "    </tr>\n",
       "    <tr>\n",
       "      <th>2022-04-05</th>\n",
       "      <td>77</td>\n",
       "      <td>77</td>\n",
       "    </tr>\n",
       "  </tbody>\n",
       "</table>\n",
       "</div>"
      ],
      "text/plain": [
       "            Seoul  Philadelphia\n",
       "2022-04-02     77            70\n",
       "2022-04-03     67            69\n",
       "2022-04-04     82            83\n",
       "2022-04-05     77            77"
      ]
     },
     "execution_count": 93,
     "metadata": {},
     "output_type": "execute_result"
    }
   ],
   "source": [
    "cc.Philadelphia.loc['2022-04-02':'2022-04-05']\n",
    "cc.loc['2022-04-02':'2022-04-05']\n",
    "temps_df.loc['2022-04-02':'2022-04-05']\n",
    "temps_df.loc['2022-04-02':'2022-04-05',['Seoul']]\n",
    "temps_df.loc[['2022-04-02','2022-04-05'],['Seoul']]\n",
    "temps_df.loc['2022-04-02':'2022-04-05',['Seoul','Philadelphia']]"
   ]
  },
  {
   "cell_type": "code",
   "execution_count": 95,
   "metadata": {},
   "outputs": [
    {
     "data": {
      "text/plain": [
       "2022-04-01    80\n",
       "2022-04-04    90\n",
       "2022-04-07    88\n",
       "Freq: 3D, Name: Missoula, dtype: int64"
      ]
     },
     "execution_count": 95,
     "metadata": {},
     "output_type": "execute_result"
    }
   ],
   "source": [
    "## label을 이용하는 접근(label은 사용자 정의 인덱스를 말함)\n",
    "# 접근법\n",
    "# 1. 단일 : [데이터프레임 or Series].loc['label명',['컬럼명',...]]\n",
    "# DataFrame\n",
    "temps_df.loc['20220401']\n",
    "temps_df.loc['2022-04-01',['Seoul','Philadelphia']]\n",
    "# Series\n",
    "temps_df.Seoul.loc['20220401']\n",
    "\n",
    "# 2. 여러개일 경우(특정 인덱스만 출력)\n",
    "# DataFrame\n",
    "temps_df.loc[['20220402','20220406'],['Seoul','Philadelphia']]\n",
    "# Series\n",
    "temps_df.Seoul.loc[['20220402','20220406']]\n",
    "\n",
    "# 3. 여러개인 경우(연속된 값인 경우)\n",
    "# DataFrame\n",
    "temps_df.loc['20220402':'20220406',['Seoul','Philadelphia']]\n",
    "# Series\n",
    "temps_df.Seoul.loc['20220402':'20220406']\n",
    "\n",
    "# 4. Boolean 값을 이용한 출력(이때에 인덱스 값과 같은 개수의 리스트 개수로 생성)\n",
    "# DataFrame\n",
    "ls = [True,False,False,True,False,False,True]\n",
    "temps_df.loc[ls,['Philadelphia','Seoul']]\n",
    "# Series\n",
    "temps_df.Missoula.loc[ls]"
   ]
  },
  {
   "cell_type": "code",
   "execution_count": 110,
   "metadata": {},
   "outputs": [
    {
     "name": "stdout",
     "output_type": "stream",
     "text": [
      "            Missoula  Philadelphia  Seoul\n",
      "2022-04-01        80            60     75\n",
      "2022-04-02        82            70     77\n",
      "2022-04-03        85            69     67\n",
      "2022-04-04        90            83     82\n",
      "2022-04-05        92            77     77\n",
      "2022-04-06        87            79     85\n",
      "2022-04-07        88            75     89\n"
     ]
    },
    {
     "data": {
      "text/plain": [
       "2022-04-01    80\n",
       "2022-04-04    90\n",
       "2022-04-07    88\n",
       "Freq: 3D, Name: Missoula, dtype: int64"
      ]
     },
     "execution_count": 110,
     "metadata": {},
     "output_type": "execute_result"
    }
   ],
   "source": [
    "## 기본 인덱스를 이용하여접근\n",
    "# 접근법\n",
    "# 1. 단일 : [데이터프레임 or Series].loc[index값(int)]\n",
    "# DataFrame\n",
    "print(temps_df)\n",
    "temps_df.iloc[3]\n",
    "temps_df.iloc[3,1]      # Philadelphia의 20220404\n",
    "# Series\n",
    "temps_df.Philadelphia.iloc[3]\n",
    "\n",
    "# 2. 여러개일 경우(특정 인덱스만 출력)\n",
    "# DataFrame\n",
    "temps_df.iloc[[1,3,5],[1,2]]\n",
    "# Series\n",
    "temps_df.Seoul.iloc[[1,3,5]]\n",
    "\n",
    "# 3. 여러개인 경우(연속된 값인 경우)\n",
    "# DataFrame\n",
    "temps_df.iloc[1:4,[0,2]]\n",
    "# Series\n",
    "temps_df.Seoul.iloc[3:]\n",
    "\n",
    "# 4. Boolean 값을 이용한 출력\n",
    "# DataFrame\n",
    "ls = [True,False,False,True,False,False,True]\n",
    "temps_df.iloc[ls,[0,1,2]]\n",
    "# Series\n",
    "temps_df.Missoula.iloc[ls]"
   ]
  },
  {
   "cell_type": "code",
   "execution_count": 131,
   "metadata": {},
   "outputs": [
    {
     "data": {
      "text/html": [
       "<div>\n",
       "<style scoped>\n",
       "    .dataframe tbody tr th:only-of-type {\n",
       "        vertical-align: middle;\n",
       "    }\n",
       "\n",
       "    .dataframe tbody tr th {\n",
       "        vertical-align: top;\n",
       "    }\n",
       "\n",
       "    .dataframe thead th {\n",
       "        text-align: right;\n",
       "    }\n",
       "</style>\n",
       "<table border=\"1\" class=\"dataframe\">\n",
       "  <thead>\n",
       "    <tr style=\"text-align: right;\">\n",
       "      <th></th>\n",
       "      <th>High</th>\n",
       "      <th>Low</th>\n",
       "    </tr>\n",
       "  </thead>\n",
       "  <tbody>\n",
       "    <tr>\n",
       "      <th>0</th>\n",
       "      <td>797.659973</td>\n",
       "      <td>786.270020</td>\n",
       "    </tr>\n",
       "    <tr>\n",
       "      <th>2</th>\n",
       "      <td>796.676025</td>\n",
       "      <td>787.099976</td>\n",
       "    </tr>\n",
       "    <tr>\n",
       "      <th>4</th>\n",
       "      <td>792.739990</td>\n",
       "      <td>787.280029</td>\n",
       "    </tr>\n",
       "    <tr>\n",
       "      <th>6</th>\n",
       "      <td>794.229980</td>\n",
       "      <td>783.200012</td>\n",
       "    </tr>\n",
       "    <tr>\n",
       "      <th>8</th>\n",
       "      <td>782.780029</td>\n",
       "      <td>770.409973</td>\n",
       "    </tr>\n",
       "    <tr>\n",
       "      <th>...</th>\n",
       "      <td>...</td>\n",
       "      <td>...</td>\n",
       "    </tr>\n",
       "    <tr>\n",
       "      <th>52</th>\n",
       "      <td>833.409973</td>\n",
       "      <td>826.520020</td>\n",
       "    </tr>\n",
       "    <tr>\n",
       "      <th>54</th>\n",
       "      <td>842.000000</td>\n",
       "      <td>834.210022</td>\n",
       "    </tr>\n",
       "    <tr>\n",
       "      <th>56</th>\n",
       "      <td>848.684998</td>\n",
       "      <td>843.250000</td>\n",
       "    </tr>\n",
       "    <tr>\n",
       "      <th>58</th>\n",
       "      <td>848.630005</td>\n",
       "      <td>840.770020</td>\n",
       "    </tr>\n",
       "    <tr>\n",
       "      <th>60</th>\n",
       "      <td>853.400024</td>\n",
       "      <td>847.109985</td>\n",
       "    </tr>\n",
       "  </tbody>\n",
       "</table>\n",
       "<p>31 rows × 2 columns</p>\n",
       "</div>"
      ],
      "text/plain": [
       "          High         Low\n",
       "0   797.659973  786.270020\n",
       "2   796.676025  787.099976\n",
       "4   792.739990  787.280029\n",
       "6   794.229980  783.200012\n",
       "8   782.780029  770.409973\n",
       "..         ...         ...\n",
       "52  833.409973  826.520020\n",
       "54  842.000000  834.210022\n",
       "56  848.684998  843.250000\n",
       "58  848.630005  840.770020\n",
       "60  853.400024  847.109985\n",
       "\n",
       "[31 rows x 2 columns]"
      ]
     },
     "execution_count": 131,
     "metadata": {},
     "output_type": "execute_result"
    }
   ],
   "source": [
    "## data/sam_kospi.xlsx 파일을 읽어서 DataFrame으로 만들어주세요\n",
    "goog = pd.read_csv('data/goog.csv')\n",
    "goog.iloc[0::3]\n",
    "goog.iloc[0::2,[2,3]]"
   ]
  },
  {
   "cell_type": "code",
   "execution_count": 135,
   "metadata": {},
   "outputs": [
    {
     "data": {
      "text/html": [
       "<div>\n",
       "<style scoped>\n",
       "    .dataframe tbody tr th:only-of-type {\n",
       "        vertical-align: middle;\n",
       "    }\n",
       "\n",
       "    .dataframe tbody tr th {\n",
       "        vertical-align: top;\n",
       "    }\n",
       "\n",
       "    .dataframe thead th {\n",
       "        text-align: right;\n",
       "    }\n",
       "</style>\n",
       "<table border=\"1\" class=\"dataframe\">\n",
       "  <thead>\n",
       "    <tr style=\"text-align: right;\">\n",
       "      <th></th>\n",
       "      <th>Open</th>\n",
       "      <th>High</th>\n",
       "      <th>Low</th>\n",
       "      <th>Close</th>\n",
       "      <th>Volume</th>\n",
       "    </tr>\n",
       "    <tr>\n",
       "      <th>Date</th>\n",
       "      <th></th>\n",
       "      <th></th>\n",
       "      <th></th>\n",
       "      <th></th>\n",
       "      <th></th>\n",
       "    </tr>\n",
       "  </thead>\n",
       "  <tbody>\n",
       "    <tr>\n",
       "      <th>2016-12-19</th>\n",
       "      <td>790.219971</td>\n",
       "      <td>797.659973</td>\n",
       "      <td>786.270020</td>\n",
       "      <td>794.200012</td>\n",
       "      <td>1225900</td>\n",
       "    </tr>\n",
       "    <tr>\n",
       "      <th>2016-12-20</th>\n",
       "      <td>796.760010</td>\n",
       "      <td>798.650024</td>\n",
       "      <td>793.270020</td>\n",
       "      <td>796.419983</td>\n",
       "      <td>925100</td>\n",
       "    </tr>\n",
       "    <tr>\n",
       "      <th>2016-12-21</th>\n",
       "      <td>795.840027</td>\n",
       "      <td>796.676025</td>\n",
       "      <td>787.099976</td>\n",
       "      <td>794.559998</td>\n",
       "      <td>1208700</td>\n",
       "    </tr>\n",
       "    <tr>\n",
       "      <th>2016-12-22</th>\n",
       "      <td>792.359985</td>\n",
       "      <td>793.320007</td>\n",
       "      <td>788.580017</td>\n",
       "      <td>791.260010</td>\n",
       "      <td>969100</td>\n",
       "    </tr>\n",
       "    <tr>\n",
       "      <th>2016-12-23</th>\n",
       "      <td>790.900024</td>\n",
       "      <td>792.739990</td>\n",
       "      <td>787.280029</td>\n",
       "      <td>789.909973</td>\n",
       "      <td>623400</td>\n",
       "    </tr>\n",
       "    <tr>\n",
       "      <th>...</th>\n",
       "      <td>...</td>\n",
       "      <td>...</td>\n",
       "      <td>...</td>\n",
       "      <td>...</td>\n",
       "      <td>...</td>\n",
       "    </tr>\n",
       "    <tr>\n",
       "      <th>2017-03-13</th>\n",
       "      <td>844.000000</td>\n",
       "      <td>848.684998</td>\n",
       "      <td>843.250000</td>\n",
       "      <td>845.539978</td>\n",
       "      <td>1149500</td>\n",
       "    </tr>\n",
       "    <tr>\n",
       "      <th>2017-03-14</th>\n",
       "      <td>843.640015</td>\n",
       "      <td>847.239990</td>\n",
       "      <td>840.799988</td>\n",
       "      <td>845.619995</td>\n",
       "      <td>779900</td>\n",
       "    </tr>\n",
       "    <tr>\n",
       "      <th>2017-03-15</th>\n",
       "      <td>847.590027</td>\n",
       "      <td>848.630005</td>\n",
       "      <td>840.770020</td>\n",
       "      <td>847.200012</td>\n",
       "      <td>1379600</td>\n",
       "    </tr>\n",
       "    <tr>\n",
       "      <th>2017-03-16</th>\n",
       "      <td>849.030029</td>\n",
       "      <td>850.849976</td>\n",
       "      <td>846.130005</td>\n",
       "      <td>848.780029</td>\n",
       "      <td>970400</td>\n",
       "    </tr>\n",
       "    <tr>\n",
       "      <th>2017-03-17</th>\n",
       "      <td>851.609985</td>\n",
       "      <td>853.400024</td>\n",
       "      <td>847.109985</td>\n",
       "      <td>852.119995</td>\n",
       "      <td>1712300</td>\n",
       "    </tr>\n",
       "  </tbody>\n",
       "</table>\n",
       "<p>61 rows × 5 columns</p>\n",
       "</div>"
      ],
      "text/plain": [
       "                  Open        High         Low       Close   Volume\n",
       "Date                                                               \n",
       "2016-12-19  790.219971  797.659973  786.270020  794.200012  1225900\n",
       "2016-12-20  796.760010  798.650024  793.270020  796.419983   925100\n",
       "2016-12-21  795.840027  796.676025  787.099976  794.559998  1208700\n",
       "2016-12-22  792.359985  793.320007  788.580017  791.260010   969100\n",
       "2016-12-23  790.900024  792.739990  787.280029  789.909973   623400\n",
       "...                ...         ...         ...         ...      ...\n",
       "2017-03-13  844.000000  848.684998  843.250000  845.539978  1149500\n",
       "2017-03-14  843.640015  847.239990  840.799988  845.619995   779900\n",
       "2017-03-15  847.590027  848.630005  840.770020  847.200012  1379600\n",
       "2017-03-16  849.030029  850.849976  846.130005  848.780029   970400\n",
       "2017-03-17  851.609985  853.400024  847.109985  852.119995  1712300\n",
       "\n",
       "[61 rows x 5 columns]"
      ]
     },
     "execution_count": 135,
     "metadata": {},
     "output_type": "execute_result"
    }
   ],
   "source": [
    "goog_df = pd.read_csv('data/goog.csv',parse_dates=['Date'],index_col='Date')\n",
    "goog_df"
   ]
  },
  {
   "cell_type": "code",
   "execution_count": null,
   "metadata": {},
   "outputs": [],
   "source": [
    "pip list"
   ]
  }
 ],
 "metadata": {
  "interpreter": {
   "hash": "b89b5cfaba6639976dc87ff2fec6d58faec662063367e2c229c520fe71072417"
  },
  "kernelspec": {
   "display_name": "Python 3.10.3 64-bit",
   "language": "python",
   "name": "python3"
  },
  "language_info": {
   "codemirror_mode": {
    "name": "ipython",
    "version": 3
   },
   "file_extension": ".py",
   "mimetype": "text/x-python",
   "name": "python",
   "nbconvert_exporter": "python",
   "pygments_lexer": "ipython3",
   "version": "3.10.3"
  },
  "orig_nbformat": 4
 },
 "nbformat": 4,
 "nbformat_minor": 2
}
