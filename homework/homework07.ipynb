{
 "cells": [
  {
   "cell_type": "code",
   "execution_count": 1,
   "metadata": {},
   "outputs": [
    {
     "name": "stdout",
     "output_type": "stream",
     "text": [
      "findall :  you2@naver.com\n",
      "match :  <re.Match object; span=(0, 14), match='you2@naver.com'>\n",
      "findall :  kimjs@gmail.com\n",
      "match :  <re.Match object; span=(0, 15), match='kimjs@gmail.com'>\n"
     ]
    }
   ],
   "source": [
    "'''\n",
    "Chapter 7\n",
    "[문제1]\n",
    "다음과 같은 여러 줄의 문자열을 대상으로 <email 양식 처리조건>에 맞게 정규표현식을 적용하여 email양식이 올바른 것만 출력되도록 하시오.\n",
    "<email 양식 처리조건>\n",
    "1. 아이디 : 첫자는 영문소문자, 단어길이 4자 이상\n",
    "2. 호스트이름 : 영문소문자 시작, 단어길이 3자 이상\n",
    "3. 최상위 도메인 : 영문소문자 3자리 이하\n",
    "4. 정규표현식 기본 패턴 : '메타문자@메타문자.메타문자'\n",
    "\n",
    "(출력 예시)\n",
    "you2@naver.com\n",
    "kimjs@gmail.com\n",
    "'''\n",
    "email = '''hong@12.com\n",
    "you2@naver.com\n",
    "12kang@hanmail.net\n",
    "kimjs@gmail.com'''\n",
    "\n",
    "from re import findall, match # findall 함수 또는 match 함수 이용\n",
    "\n",
    "for e in email.split(sep='\\n') :\n",
    "    result = findall('^[a-z]\\\\w{3,}@[a-z]\\\\w{2,}.[a-z]\\\\w{2,}',e)\n",
    "    if result:\n",
    "        str_result = result[0]\n",
    "        print('findall : ',str_result)\n",
    "    \n",
    "    result2 = match('[a-z]\\\\w{3,}@[a-z]\\\\w{2,}.[a-z]\\\\w{2,}',e)\n",
    "    if result2:\n",
    "        print('match : ',result2)"
   ]
  },
  {
   "cell_type": "code",
   "execution_count": 6,
   "metadata": {},
   "outputs": [
    {
     "name": "stdout",
     "output_type": "stream",
     "text": [
      "names = ['홍길동', '이순신', '유관순']\n"
     ]
    }
   ],
   "source": [
    "'''\n",
    "[문제2]\n",
    "다음 emp 변수는 '입사년도이름급여' 순으로 사원의 정보가 기록된 자료이다. emp 변수를 이용하여 사원의 이름만 추출하는 함수를 정의하시오.\n",
    "(출력 결과)\n",
    "names = ['홍길동', '이순신', '유관순']\n",
    "'''\n",
    "\n",
    "from re import findall\n",
    "\n",
    "emp = [\"2014홍길동220\", \"2002이순신300\", \"2010유관순260\"]\n",
    "\n",
    "# 함수 정의\n",
    "def name_pro (emp) :\n",
    "    emp_re1 = [''.join(findall('[가-힣]',e)) for e in emp]\n",
    "    return emp_re1\n",
    "\n",
    "# 함수 호출\n",
    "names = name_pro (emp)\n",
    "print ('names =', names)\n"
   ]
  },
  {
   "cell_type": "code",
   "execution_count": 19,
   "metadata": {},
   "outputs": [
    {
     "name": "stdout",
     "output_type": "stream",
     "text": [
      "급여 리스트 :  [220, 300, 260]\n",
      "전체 사원의 급여 평균 : 260\n"
     ]
    }
   ],
   "source": [
    "'''\n",
    "[문제3]\n",
    "다음 emp 변수는 '입사년도이름급여'순으로 사원의 정보가 기록된 자료이다. emp 변수를 이용하여 사원의 이름만 추출하는 함수를 정의하시오.\n",
    "(출력 결과)\n",
    "전체 사원 급여 평균 : 260\n",
    "'''\n",
    "from re import findall\n",
    "\n",
    "from statistics import mean\n",
    "\n",
    "emp = [\"2014 홍길동220\", \"2002 이순신300\", \"2010유관순260\"]\n",
    "\n",
    "# 함수 정의\n",
    "def pay_pro (emp):\n",
    "    pays = []\n",
    "    for p in emp:\n",
    "        pay_re = findall('[가-힣][0-9]{3}',p)\n",
    "        pay = findall('[0-9]{3}',pay_re[0])\n",
    "        pays.append(int(pay[0]))\n",
    "    print('급여 리스트 : ',pays)\n",
    "    return mean(pays)\n",
    "\n",
    "# 함수 호출\n",
    "pays_mean = pay_pro (emp)\n",
    "print ('전체 사원의 급여 평균 :', pays_mean)"
   ]
  },
  {
   "cell_type": "code",
   "execution_count": 32,
   "metadata": {},
   "outputs": [
    {
     "name": "stdout",
     "output_type": "stream",
     "text": [
      "전체 급여 평균 :  260\n",
      "평균이상 급여 수령자\n",
      "이순신 => 300\n",
      "유관순 => 260\n"
     ]
    }
   ],
   "source": [
    "'''\n",
    "[문제4]\n",
    "다음 emp 변수는 '입사년도이름급여'순으로 사원의 정보가 기록된 자료이다. emp 변수를 이용하여 사원의 이름만 추출하는 함수를 정의하시오.\n",
    "(출력 결과)\n",
    "전체 급여 평균 : 260\n",
    "평균 이상 급여 수령자\n",
    "이순신 => 300\n",
    "유관순 => 260\n",
    "'''\n",
    "\n",
    "from re import findall\n",
    "from statistics import mean\n",
    "emp = [\"2014홍길동220\", \"20020이순신300\", \"2010유관순260\"]\n",
    "\n",
    "# 함수 정의\n",
    "def pay_pro(x) :\n",
    "    from statistics import mean # 평균 함수\n",
    "    import re\n",
    "    \n",
    "    name_re = [findall('[가-힣]{3}',n) for n in x]\n",
    "    name = [n[0] for n in name_re]\n",
    "    \n",
    "    pay = []\n",
    "    pay_re1 = [findall('[가-힣][0-9]{3}',p) for p in x]\n",
    "    for p in pay_re1:\n",
    "        str = p[0]\n",
    "        pay.append(int(str[1:]))\n",
    "    pay_avg = mean(pay)\n",
    "            \n",
    "    print('전체 급여 평균 : ', pay_avg)\n",
    "    print('평균이상 급여 수령자')\n",
    "    \n",
    "    for i in range(len(x)):\n",
    "        if pay[i] >= pay_avg:\n",
    "            print(name[i],'=>',pay[i])\n",
    "            \n",
    "# 함수 호출\n",
    "pay_pro (emp)"
   ]
  },
  {
   "cell_type": "code",
   "execution_count": 36,
   "metadata": {},
   "outputs": [
    {
     "name": "stdout",
     "output_type": "stream",
     "text": [
      "['afabasabag', 'abttaa', 'uysfsfaa']\n"
     ]
    }
   ],
   "source": [
    "'''\n",
    "[문제5]\n",
    "다음 texts 변수의 텍스트를 출력 결과와 같이 전처리 하시오.\n",
    "(출력 결과)\n",
    "['afabasabag', 'abttaa', 'uysfsfaa']\n",
    "'''\n",
    "\n",
    "from re import findall, sub\n",
    "texts = ['AFAB54747, asabag?', 'abTTa $$;a12:2424.', 'uysfsfA, A124&***?']\n",
    "\n",
    "# 소문자\n",
    "text_re1 = [txt.lower() for txt in texts]\n",
    "# 숫자\n",
    "text_re2 = [sub('[0-9]','',text) for text in text_re1]\n",
    "# 특수문자 및 문장부호\n",
    "text_re3 = [sub('[,.;:?!@#$%^&*()]','',text) for text in text_re2]\n",
    "# 공백\n",
    "text_re4 = [''.join(text.split()) for text in text_re3]\n",
    "\n",
    "print(text_re4)\n"
   ]
  }
 ],
 "metadata": {
  "interpreter": {
   "hash": "b89b5cfaba6639976dc87ff2fec6d58faec662063367e2c229c520fe71072417"
  },
  "kernelspec": {
   "display_name": "Python 3.10.3 64-bit",
   "language": "python",
   "name": "python3"
  },
  "language_info": {
   "codemirror_mode": {
    "name": "ipython",
    "version": 3
   },
   "file_extension": ".py",
   "mimetype": "text/x-python",
   "name": "python",
   "nbconvert_exporter": "python",
   "pygments_lexer": "ipython3",
   "version": "3.10.3"
  },
  "orig_nbformat": 4
 },
 "nbformat": 4,
 "nbformat_minor": 2
}
