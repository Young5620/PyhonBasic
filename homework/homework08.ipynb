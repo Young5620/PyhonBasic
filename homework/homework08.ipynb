{
 "cells": [
  {
   "cell_type": "code",
   "execution_count": 18,
   "metadata": {},
   "outputs": [
    {
     "name": "stdout",
     "output_type": "stream",
     "text": [
      "문장 내용\n",
      "['programming is fun', 'very fun!', 'have a good time', 'mouse is input device', 'keyboard is input device', 'computer is input output system']\n",
      "문장 수 :  6\n",
      "단어내용\n",
      "['programming', 'is', 'fun', 'very', 'fun!', 'have', 'a', 'good', 'time', 'mouse', 'is', 'input', 'device', 'keyboard', 'is', 'input', 'device', 'computer', 'is', 'input', 'output', 'system']\n",
      "단어 수 :  22\n"
     ]
    }
   ],
   "source": [
    "'''\n",
    "[문제1]\n",
    "ftest.txt 파일을 읽어서 다음과 같이 줄 수와 단어 수를 카운트 하시오.\n",
    "<처리 조건>\n",
    "1. 문장은 '\\n'을 구분자로 한다.\n",
    "2. 단어는 공백을 구분자로 한다.\n",
    "(출력 결과)\n",
    "문장 내용\n",
    "['programming is fun', 'very fun!', 'have a good time', 'mouse is input device'.\n",
    "'keyboard is input device', 'computer']\n",
    "문장 수: 6\n",
    "단어 내용\n",
    "['programming', 'is', 'fun', 'very', 'fun!', 'have', 'a', 'good', 'time', 'mouse', 'is',\n",
    "'input', 'device', 'keyboard', 'is', 'input', 'device', 'computer']\n",
    "단어 수: 12\n",
    "'''\n",
    "\n",
    "file = open(\"data/ftest.txt\", mode ='r')\n",
    "lines = file.readlines() # 줄 단위 전체 읽기\n",
    "docs = [] # 문장 저장\n",
    "words = [] # 단어 저장\n",
    "for doc in lines:\n",
    "    docs.append(doc.strip())\n",
    "    for word in doc.split():\n",
    "        words.append(word)\n",
    "print('문장 내용')\n",
    "print(docs)\n",
    "print('문장 수 : ',len(docs))\n",
    "print('단어내용')\n",
    "print(words)\n",
    "print('단어 수 : ',len(words))"
   ]
  },
  {
   "cell_type": "code",
   "execution_count": 20,
   "metadata": {},
   "outputs": [
    {
     "name": "stdout",
     "output_type": "stream",
     "text": [
      "관측치 길이 :  5\n",
      "전체 평균 급여 :  370.0\n",
      "최저 급여 : 150 , 이름 : 홍길동\n",
      "최고 급여 : 500 , 이름 : 강감찬\n"
     ]
    }
   ],
   "source": [
    "'''\n",
    "[문제2]\n",
    "emp.csv 파일을 읽어서 다음 출력 예시와 같이 출력하시오.\n",
    "(출력 예시)\n",
    "관측치 길이: 5\n",
    "전체 평균 급여 : 370.0\n",
    "최저 급여 : 150, 이름 : 홍길동\n",
    "최고 급여 : 500, 이름 : 강감찬\n",
    "'''\n",
    "import pandas as pd\n",
    "\n",
    "emp = pd. read_csv('data/emp.csv', encoding='utf-8')\n",
    "# print (emp.info())\n",
    "\n",
    "print('관측치 길이 : ', len(emp))\n",
    "\n",
    "pay = emp.Pay\n",
    "name = emp.Name\n",
    "\n",
    "print('전체 평균 급여 : ', pay.mean())\n",
    "max_pay = max(pay)\n",
    "min_pay = min(pay)\n",
    "\n",
    "for idx in range(len(pay)):\n",
    "    if pay[idx] == min_pay:\n",
    "        print('최저 급여 : {} , 이름 : {}'.format(min_pay,name[idx]))\n",
    "    if pay[idx] == max_pay:\n",
    "        print('최고 급여 : {} , 이름 : {}'.format(max_pay,name[idx]))"
   ]
  }
 ],
 "metadata": {
  "interpreter": {
   "hash": "b89b5cfaba6639976dc87ff2fec6d58faec662063367e2c229c520fe71072417"
  },
  "kernelspec": {
   "display_name": "Python 3.10.3 64-bit",
   "language": "python",
   "name": "python3"
  },
  "language_info": {
   "codemirror_mode": {
    "name": "ipython",
    "version": 3
   },
   "file_extension": ".py",
   "mimetype": "text/x-python",
   "name": "python",
   "nbconvert_exporter": "python",
   "pygments_lexer": "ipython3",
   "version": "3.10.3"
  },
  "orig_nbformat": 4
 },
 "nbformat": 4,
 "nbformat_minor": 2
}
