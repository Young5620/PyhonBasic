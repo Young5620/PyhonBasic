{
 "cells": [
  {
   "cell_type": "code",
   "execution_count": 4,
   "metadata": {},
   "outputs": [
    {
     "name": "stdout",
     "output_type": "stream",
     "text": [
      "['http://www.naver.com', 'http://www.daum.net', 'https://www.yahoo.com']\n"
     ]
    }
   ],
   "source": [
    "### 텍스트 처리\n",
    "# 비정형 자료를 수집한 경우 올바르지 않은 문장이 포함이 될 수 있다. \n",
    "# 이런 경우 올바른 문장만 선택하는 텍스트 전처리 과정\n",
    "\n",
    "# 예) 도메인 주소에 'http://'으로 시작되지 않는 주소를 비정상 자료로 가정하여 수집된 자료 제외하는 예시\n",
    "# 텍스트 자료\n",
    "multi_line = \"\"\"http://www.naver.com\n",
    "http://www.daum.net\n",
    "https://www.yahoo.com\n",
    "www.hongildong.com\"\"\"\n",
    "import re\n",
    "from re import split, compile, match\n",
    "\n",
    "# 구분자를 이용하여 문자열 분리(split)\n",
    "web_site = split('\\n',multi_line)\n",
    "# print(web_site)\n",
    "\n",
    "# 패턴 객체 만들기\n",
    "pat = compile('http[s]?://')\n",
    "\n",
    "# 패턴 객체를 이용하여 정상 웹 주소 선택하기\n",
    "sel_site = [site for site in web_site if match(pat,site)]\n",
    "'''\n",
    "sel_site = []\n",
    "for site in web_site:\n",
    "    if match(pat,site):\n",
    "        sel_site.append(site)\n",
    "'''\n",
    "print(sel_site)"
   ]
  },
  {
   "cell_type": "code",
   "execution_count": 18,
   "metadata": {},
   "outputs": [
    {
     "name": "stdout",
     "output_type": "stream",
     "text": [
      "texts_re1 :  [' 우리나라     대한민국, 우리나라%$ 만세', '비아그&라 500gram 정력 최고!', '나는 대한민국 사람', '보험료 15000원에 평생 보장 마감 임박', '나는 홍길동']\n",
      "texts_re2 :  [' 우리나라     대한민국, 우리나라%$ 만세', '비아그&라 gram 정력 최고!', '나는 대한민국 사람', '보험료 원에 평생 보장 마감 임박', '나는 홍길동']\n",
      "texts_re3 :  [' 우리나라     대한민국 우리나라%$ 만세', '비아그&라 gram 정력 최고', '나는 대한민국 사람', '보험료 원에 평생 보장 마감 임박', '나는 홍길동']\n",
      "texts_re4 :  [' 우리나라     대한민국 우리나라 만세', '비아그라 gram 정력 최고', '나는 대한민국 사람', '보험료 원에 평생 보장 마감 임박', '나는 홍길동']\n",
      "texts_re5 :  [' 우리나라     대한민국 우리나라 만세', '비아그라  정력 최고', '나는 대한민국 사람', '보험료 원에 평생 보장 마감 임박', '나는 홍길동']\n",
      "texts_re6 :  ['우리나라 대한민국 우리나라 만세', '비아그라 정력 최고', '나는 대한민국 사람', '보험료 원에 평생 보장 마감 임박', '나는 홍길동']\n"
     ]
    }
   ],
   "source": [
    "### 자연어 전처리\n",
    "# 문장에서 명사만 추출하여 단어의 출현 빈도수를 분석하기 위해서 문장에 포함된 문자부호, 특수문자, 숫자 등을 제거해야한다.\n",
    "# 이런것처럼 요구하는 내용에 따라 불필요한 내용들 제거하는 과정\n",
    "\n",
    "import re\n",
    "from re import findall, sub\n",
    "\n",
    "texts = [' 우리나라     대한민국, 우리나라%$ 만세','비아그&라 500GRAM 정력 최고!',\n",
    "         '나는 대한민국 사람', '보험료 15000원에 평생 보장 마감 임박','나는 홍길동']\n",
    "\n",
    "# 1단계: 소문자 변경\n",
    "texts_re1 = [t.lower() for t in texts]\n",
    "print('texts_re1 : ',texts_re1)\n",
    "\n",
    "# 2단계: 숫자제거\n",
    "texts_re2 = [sub('[0-9]','',text) for text in texts_re1]\n",
    "print('texts_re2 : ',texts_re2)\n",
    "\n",
    "# 3단계: 문장부호 제거\n",
    "texts_re3 = [sub('[,.?!:;]','',text) for text in texts_re2]\n",
    "print('texts_re3 : ',texts_re3)\n",
    "\n",
    "# 4단계: 특수문자 제거\n",
    "special_str = '[@#$%^&*()]'\n",
    "texts_re4 = [sub(special_str,'',text) for text in texts_re3]\n",
    "print('texts_re4 : ',texts_re4)\n",
    "\n",
    "# 5단계: 영문자 제거\n",
    "texts_re5 = [''.join(findall('[^a-z]',text)) for text in texts_re4]\n",
    "print('texts_re5 : ',texts_re5)\n",
    "\n",
    "# 6단계: 공백 제거\n",
    "texts_re6 = [' '.join(text.split()) for text in texts_re5]\n",
    "print('texts_re6 : ',texts_re6)"
   ]
  },
  {
   "cell_type": "code",
   "execution_count": 22,
   "metadata": {},
   "outputs": [
    {
     "name": "stdout",
     "output_type": "stream",
     "text": [
      "['우리나라 대한민국 우리나라 만세', '비아그라 정력 최고', '나는 대한민국 사람', '보험료 원에 평생 보장 마감 임박', '나는 홍길동']\n"
     ]
    }
   ],
   "source": [
    "### 전처리 과정을 함수로\n",
    "### 함수명 : clean_text(text)\n",
    "\n",
    "def clean_text(text):\n",
    "    from re import sub, findall\n",
    "    \n",
    "    # 1단계: 소문자 변경\n",
    "    texts_re1 = text.lower()\n",
    "\n",
    "    # 2단계: 숫자제거\n",
    "    texts_re2 = sub('[0-9]','',texts_re1)\n",
    "\n",
    "    # 3단계: 문장부호 제거\n",
    "    texts_re3 = sub('[,.?!:;]','',texts_re2)\n",
    "\n",
    "    # 4단계: 특수문자 제거\n",
    "    special_str = '[@#$%^&*()]'\n",
    "    texts_re4 = sub(special_str,'',texts_re3)\n",
    "\n",
    "    # 5단계: 영문자 제거\n",
    "    texts_re5 = ''.join(findall('[^a-z]',texts_re4))\n",
    "\n",
    "    # 6단계: 공백 제거\n",
    "    texts_re6 = ' '.join(texts_re5.split())\n",
    "    \n",
    "    # 반환값\n",
    "    return texts_re6\n",
    "\n",
    "texts = [' 우리나라     대한민국, 우리나라%$ 만세','비아그&라 500GRAM 정력 최고!',\n",
    "         '나는 대한민국 사람', '보험료 15000원에 평생 보장 마감 임박','나는 홍길동']\n",
    "\n",
    "text_result = [clean_text(text) for text in texts]\n",
    "print(text_result)"
   ]
  }
 ],
 "metadata": {
  "interpreter": {
   "hash": "b89b5cfaba6639976dc87ff2fec6d58faec662063367e2c229c520fe71072417"
  },
  "kernelspec": {
   "display_name": "Python 3.10.3 64-bit",
   "language": "python",
   "name": "python3"
  },
  "language_info": {
   "codemirror_mode": {
    "name": "ipython",
    "version": 3
   },
   "file_extension": ".py",
   "mimetype": "text/x-python",
   "name": "python",
   "nbconvert_exporter": "python",
   "pygments_lexer": "ipython3",
   "version": "3.10.3"
  },
  "orig_nbformat": 4
 },
 "nbformat": 4,
 "nbformat_minor": 2
}
