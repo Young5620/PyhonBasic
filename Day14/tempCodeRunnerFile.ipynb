words = []       # 단어
counts = []     # 출현 빈도수

for word,count in top5_word:
    words.append(word) 
    counts.append(count)
print(words)
print(counts)

import matplotlib.pyplot as plt

from matplotlib import font_manager,rc
font_name = font_manager.FontProperties(
    fname="C:\Windows\Fonts/malgun.ttf").get_name()
rc('font',family=font_name)

print('원형 그래프')
plt.pie(counts,labels=words,autopct='%.1f%%')
plt.show()